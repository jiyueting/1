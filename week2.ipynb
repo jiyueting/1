{
  "nbformat": 4,
  "nbformat_minor": 0,
  "metadata": {
    "colab": {
      "private_outputs": true,
      "provenance": [],
      "mount_file_id": "1gRRvA4HoCbk1zXMjOj7uM-3Y5n_MGmI8",
      "authorship_tag": "ABX9TyOXo0AG/2hqOCif2WvmRwJz",
      "include_colab_link": true
    },
    "kernelspec": {
      "name": "python3",
      "display_name": "Python 3"
    },
    "language_info": {
      "name": "python"
    }
  },
  "cells": [
    {
      "cell_type": "markdown",
      "metadata": {
        "id": "view-in-github",
        "colab_type": "text"
      },
      "source": [
        "<a href=\"https://colab.research.google.com/github/jiyueting/1/blob/main/week2.ipynb\" target=\"_parent\"><img src=\"https://colab.research.google.com/assets/colab-badge.svg\" alt=\"Open In Colab\"/></a>"
      ]
    },
    {
      "cell_type": "code",
      "source": [
        "import numpy as np\n",
        "\n",
        "data = np.genfromtxt(\n",
        "    'data/example_data.csv', delimiter=';',\n",
        "    names=True, dtype=None, encoding='UTF'\n",
        ")\n",
        "data"
      ],
      "metadata": {
        "id": "WypZEEArYpNw"
      },
      "execution_count": null,
      "outputs": []
    },
    {
      "cell_type": "code",
      "source": [
        "from google.colab import drive\n",
        "drive.mount('/content/drive')"
      ],
      "metadata": {
        "id": "mEtmSmLGYWsq"
      },
      "execution_count": null,
      "outputs": []
    },
    {
      "cell_type": "code",
      "source": [
        "cd /content/drive/MyDrive/Hands-On-Data-Analysis-with-Pandas-2nd-edition/ch_02"
      ],
      "metadata": {
        "id": "HLjrcp6YYe08"
      },
      "execution_count": null,
      "outputs": []
    },
    {
      "cell_type": "code",
      "source": [
        "pwd"
      ],
      "metadata": {
        "id": "0lphf_nOYhoc"
      },
      "execution_count": null,
      "outputs": []
    },
    {
      "cell_type": "code",
      "source": [
        "ls"
      ],
      "metadata": {
        "id": "DbJmprh-Ykov"
      },
      "execution_count": null,
      "outputs": []
    },
    {
      "cell_type": "code",
      "execution_count": null,
      "metadata": {
        "id": "Jb08sRdfTMiE"
      },
      "outputs": [],
      "source": [
        "import pandas as pd\n",
        "data = {\n",
        "    \"Name\":[\"정서현\",\"이강규\",\"혜열정\",\"지민경\"],\n",
        "    \"Hobby\":[\"영화보기\",\"클라이밍\",\"게임\",\"맛집탐방\"],\n",
        "    \"Nationality\":[\"한국\",\"한국\",\"중국\",\"한국\"],\n",
        "    \"학과\":[\"응통\",\"기계\",\"응통\",\"응통\"],\n",
        "    \"학번\":[\"19\",\"20\",\"20\",\"19\"],\n",
        "    \"지역\":[\"서울\",\"서울\",\"서울\",\"인천\"]\n",
        "}\n",
        "\n",
        "team_df = pd.DataFrame(data)\n",
        "team_df"
      ]
    },
    {
      "cell_type": "code",
      "source": [
        "df = team_df\n",
        "df.to_csv('data/Task2.csv',index=False)"
      ],
      "metadata": {
        "id": "ofXt6VPZXpfF"
      },
      "execution_count": null,
      "outputs": []
    },
    {
      "cell_type": "code",
      "source": [
        "df = pd.read_csv('data/Task2.csv')"
      ],
      "metadata": {
        "id": "TmGZarAdYIqs"
      },
      "execution_count": null,
      "outputs": []
    },
    {
      "cell_type": "code",
      "source": [
        "df"
      ],
      "metadata": {
        "id": "Yql7zPZPZAlb"
      },
      "execution_count": null,
      "outputs": []
    },
    {
      "cell_type": "code",
      "source": [
        "df.head"
      ],
      "metadata": {
        "id": "pFl-iEtEZPHK"
      },
      "execution_count": null,
      "outputs": []
    },
    {
      "cell_type": "code",
      "source": [
        "new_index = range(101,101+len(team_df))\n",
        "team_df.index = new_index\n",
        "team_df"
      ],
      "metadata": {
        "id": "bDXlmm9SaJRD"
      },
      "execution_count": null,
      "outputs": []
    }
  ]
}